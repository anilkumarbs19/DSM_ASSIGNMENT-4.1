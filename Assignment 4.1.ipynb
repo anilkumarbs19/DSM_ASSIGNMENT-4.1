{
 "cells": [
  {
   "cell_type": "code",
   "execution_count": 19,
   "metadata": {},
   "outputs": [
    {
     "name": "stdout",
     "output_type": "stream",
     "text": [
      "The area of the triangle with sides 18, 24 and 30 is 216.0\n",
      "The area of the triangle with sides 3, 4 and 5 is 6.0\n",
      "\n",
      "\n"
     ]
    }
   ],
   "source": [
    "class Triangle:\n",
    "    def __init__(self, a, b, c): #set sides of the triangle\n",
    "        self.a = a\n",
    "        self.b = b\n",
    "        self.c = c\n",
    "    \n",
    "class Area:\n",
    "    def __init__(self):\n",
    "        Triangle.__init__(self) #invoke parent class to get sides of the triangle\n",
    "                \n",
    "    def getArea(self):\n",
    "        s = (self.a + self.b + self.c) / 2\n",
    "        area = (s * (s - self.a) * (s - self.b) * (s - self.c)) ** 0.5    \n",
    "        return \"The area of the triangle with sides {}, {} and {} is {}\".format(self.a, self.b, self.c, area)    \n",
    "\n",
    "triangle1 = Triangle(18,24,30)\n",
    "triangle2 = Triangle(3,4,5)\n",
    "\n",
    "\n",
    "area1 = Area.getArea(triangle1)\n",
    "print(area1)\n",
    "\n",
    "area2 = Area.getArea(triangle2)\n",
    "print(area2)\n",
    "print(\"\\n\")\n"
   ]
  },
  {
   "cell_type": "code",
   "execution_count": null,
   "metadata": {
    "collapsed": true
   },
   "outputs": [],
   "source": []
  }
 ],
 "metadata": {
  "kernelspec": {
   "display_name": "Python 3",
   "language": "python",
   "name": "python3"
  },
  "language_info": {
   "codemirror_mode": {
    "name": "ipython",
    "version": 3
   },
   "file_extension": ".py",
   "mimetype": "text/x-python",
   "name": "python",
   "nbconvert_exporter": "python",
   "pygments_lexer": "ipython3",
   "version": "3.6.3"
  }
 },
 "nbformat": 4,
 "nbformat_minor": 2
}
